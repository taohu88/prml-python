{
 "cells": [
  {
   "cell_type": "markdown",
   "metadata": {},
   "source": [
    "# 2. Probability Distributions"
   ]
  },
  {
   "cell_type": "code",
   "execution_count": 1,
   "metadata": {},
   "outputs": [],
   "source": [
    "import sys\n",
    "\n",
    "sys.path.append('..')"
   ]
  },
  {
   "cell_type": "code",
   "execution_count": 2,
   "metadata": {},
   "outputs": [],
   "source": [
    "import numpy as np\n",
    "import matplotlib.pyplot as plt\n",
    "%matplotlib inline\n",
    "\n",
    "from prml.rv import (\n",
    "    Bernoulli,\n",
    "    Beta,\n",
    "#     Categorical,\n",
    "#     Dirichlet,\n",
    "#     Gamma,\n",
    "#     Gaussian,\n",
    "#     MultivariateGaussian,\n",
    "#     MultivariateGaussianMixture,\n",
    "#     StudentsT,\n",
    "#     Uniform\n",
    ")\n",
    "\n",
    "np.random.seed(1234)"
   ]
  },
  {
   "cell_type": "markdown",
   "metadata": {},
   "source": [
    "## 2.1 Binary Variables"
   ]
  },
  {
   "cell_type": "code",
   "execution_count": 3,
   "metadata": {},
   "outputs": [
    {
     "name": "stdout",
     "output_type": "stream",
     "text": [
      "Bernoulli(\n",
      "    mu=0.75\n",
      ")\n"
     ]
    }
   ],
   "source": [
    "model = Bernoulli()\n",
    "model.fit(np.array([0., 1., 1., 1.]))\n",
    "print(model)"
   ]
  },
  {
   "cell_type": "markdown",
   "metadata": {},
   "source": [
    "### 2.1.1 The beta distributions"
   ]
  },
  {
   "cell_type": "code",
   "execution_count": 4,
   "metadata": {
    "scrolled": true
   },
   "outputs": [
    {
     "data": {
      "image/png": "[encoded data removed]",
      "text/plain": [
       "<Figure size 432x288 with 4 Axes>"
      ]
     },
     "metadata": {
      "needs_background": "light"
     },
     "output_type": "display_data"
    }
   ],
   "source": [
    "x = np.linspace(0, 1, 100)\n",
    "for i, [a, b] in enumerate([[0.1, 0.1], [1, 1], [2, 3], [8, 4]]):\n",
    "    plt.subplot(2, 2, i + 1)\n",
    "    beta = Beta(a, b)\n",
    "    plt.xlim(0, 1)\n",
    "    plt.ylim(0, 3)\n",
    "    plt.plot(x, beta.pdf(x))\n",
    "    plt.annotate(\"a={}\".format(a), (0.1, 2.5))\n",
    "    plt.annotate(\"b={}\".format(b), (0.1, 2.1))\n",
    "plt.show()"
   ]
  },
  {
   "cell_type": "code",
   "execution_count": null,
   "metadata": {},
   "outputs": [],
   "source": [
    "beta = Beta(2, 2)\n",
    "plt.subplot(2, 1, 1)\n",
    "plt.xlim(0, 1)\n",
    "plt.ylim(0, 2)\n",
    "plt.plot(x, beta.pdf(x))\n",
    "plt.annotate(\"prior\", (0.1, 1.5))\n",
    "\n",
    "model = Bernoulli(mu=beta)\n",
    "model.fit(np.array([1]))\n",
    "plt.subplot(2, 1, 2)\n",
    "plt.xlim(0, 1)\n",
    "plt.ylim(0, 2)\n",
    "plt.plot(x, model.mu.pdf(x))\n",
    "plt.annotate(\"posterior\", (0.1, 1.5))\n",
    "\n",
    "plt.show()"
   ]
  },
  {
   "cell_type": "code",
   "execution_count": null,
   "metadata": {},
   "outputs": [],
   "source": [
    "print(\"Maximum likelihood estimation\")\n",
    "model = Bernoulli()\n",
    "model.fit(np.array([1]))\n",
    "print(\"{} out of 10000 is 1\".format(model.draw(10000).sum()))\n",
    "\n",
    "print(\"Bayesian estimation\")\n",
    "model = Bernoulli(mu=Beta(1, 1))\n",
    "model.fit(np.array([1]))\n",
    "print(\"{} out of 10000 is 1\".format(model.draw(10000).sum()))"
   ]
  },
  {
   "cell_type": "markdown",
   "metadata": {},
   "source": [
    "## 2.2 Multinomial Variables"
   ]
  },
  {
   "cell_type": "code",
   "execution_count": null,
   "metadata": {},
   "outputs": [],
   "source": [
    "model = Categorical()\n",
    "model.fit(np.array([[0, 1, 0], [1, 0, 0], [1, 0, 0], [0, 0, 1]]))\n",
    "print(model)"
   ]
  },
  {
   "cell_type": "markdown",
   "metadata": {},
   "source": [
    "### 2.2.1 The Dirichlet distribution"
   ]
  },
  {
   "cell_type": "code",
   "execution_count": null,
   "metadata": {},
   "outputs": [],
   "source": [
    "mu = Dirichlet(alpha=np.ones(3))\n",
    "model = Categorical(mu=mu)\n",
    "print(model)\n",
    "\n",
    "model.fit(np.array([[1., 0., 0.], [1., 0., 0.], [0., 1., 0.]]))\n",
    "print(model)"
   ]
  },
  {
   "cell_type": "markdown",
   "metadata": {},
   "source": [
    "## 2.3 The Gaussian Distribution"
   ]
  },
  {
   "cell_type": "code",
   "execution_count": null,
   "metadata": {},
   "outputs": [],
   "source": [
    "uniform = Uniform(low=0, high=1)\n",
    "plt.figure(figsize=(10, 5))\n",
    "\n",
    "plt.subplot(1, 3, 1)\n",
    "plt.xlim(0, 1)\n",
    "plt.ylim(0, 5)\n",
    "plt.annotate(\"N=1\", (0.1, 4.5))\n",
    "plt.hist(uniform.draw(100000), bins=20, normed=True)\n",
    "\n",
    "plt.subplot(1, 3, 2)\n",
    "plt.xlim(0, 1)\n",
    "plt.ylim(0, 5)\n",
    "plt.annotate(\"N=2\", (0.1, 4.5))\n",
    "plt.hist(0.5 * (uniform.draw(100000) + uniform.draw(100000)), bins=20, normed=True)\n",
    "\n",
    "plt.subplot(1, 3, 3)\n",
    "plt.xlim(0, 1)\n",
    "plt.ylim(0, 5)\n",
    "sample = 0\n",
    "for _ in range(10):\n",
    "    sample = sample + uniform.draw(100000)\n",
    "plt.annotate(\"N=10\", (0.1, 4.5))\n",
    "plt.hist(sample * 0.1, bins=20, normed=True)\n",
    "\n",
    "plt.show()"
   ]
  },
  {
   "cell_type": "markdown",
   "metadata": {},
   "source": [
    "### 2.3.4 Maximum Likelihood for the Gaussian"
   ]
  },
  {
   "cell_type": "code",
   "execution_count": null,
   "metadata": {},
   "outputs": [],
   "source": [
    "X = np.random.normal(loc=1., scale=2., size=(100, 2))\n",
    "gaussian = MultivariateGaussian()\n",
    "gaussian.fit(X)\n",
    "print(gaussian)\n",
    "\n",
    "x, y = np.meshgrid(\n",
    "    np.linspace(-10, 10, 100), np.linspace(-10, 10, 100))\n",
    "p = gaussian.pdf(\n",
    "    np.array([x, y]).reshape(2, -1).T).reshape(100, 100)\n",
    "plt.scatter(X[:, 0], X[:, 1], facecolor=\"none\", edgecolor=\"steelblue\")\n",
    "plt.contour(x, y, p)\n",
    "plt.show()"
   ]
  },
  {
   "cell_type": "markdown",
   "metadata": {},
   "source": [
    "### 2.3.6 Bayesian inference for the Gaussian"
   ]
  },
  {
   "cell_type": "code",
   "execution_count": null,
   "metadata": {},
   "outputs": [],
   "source": [
    "mu = Gaussian(0, 0.1)\n",
    "model = Gaussian(mu, 0.1)\n",
    "\n",
    "x = np.linspace(-1, 1, 100)\n",
    "plt.plot(x, model.mu.pdf(x), label=\"N=0\")\n",
    "\n",
    "model.fit(np.random.normal(loc=0.8, scale=0.1, size=1))\n",
    "plt.plot(x, model.mu.pdf(x), label=\"N=1\")\n",
    "\n",
    "model.fit(np.random.normal(loc=0.8, scale=0.1, size=1))\n",
    "plt.plot(x, model.mu.pdf(x), label=\"N=2\")\n",
    "\n",
    "model.fit(np.random.normal(loc=0.8, scale=0.1, size=8))\n",
    "plt.plot(x, model.mu.pdf(x), label=\"N=10\")\n",
    "\n",
    "plt.xlim(-1, 1)\n",
    "plt.ylim(0, 5)\n",
    "plt.legend()\n",
    "plt.show()"
   ]
  },
  {
   "cell_type": "code",
   "execution_count": null,
   "metadata": {},
   "outputs": [],
   "source": [
    "x = np.linspace(0, 2, 100)\n",
    "for i, [a, b] in enumerate([[0.1, 0.1], [1, 1], [2, 3], [4, 6]]):\n",
    "    plt.subplot(2, 2, i + 1)\n",
    "    gamma = Gamma(a, b)\n",
    "    plt.xlim(0, 2)\n",
    "    plt.ylim(0, 2)\n",
    "    plt.plot(x, gamma.pdf(x))\n",
    "    plt.annotate(\"a={}\".format(a), (1, 1.6))\n",
    "    plt.annotate(\"b={}\".format(b), (1, 1.3))\n",
    "plt.show()"
   ]
  },
  {
   "cell_type": "code",
   "execution_count": null,
   "metadata": {},
   "outputs": [],
   "source": [
    "tau = Gamma(a=1, b=1)\n",
    "model = Gaussian(mu=0, tau=tau)\n",
    "print(model)\n",
    "\n",
    "model.fit(np.random.normal(scale=1.414, size=100))\n",
    "print(model)"
   ]
  },
  {
   "cell_type": "markdown",
   "metadata": {
    "collapsed": true
   },
   "source": [
    "### 2.3.7 Student's t-distribution"
   ]
  },
  {
   "cell_type": "code",
   "execution_count": null,
   "metadata": {
    "scrolled": false
   },
   "outputs": [],
   "source": [
    "X = np.random.normal(size=20)\n",
    "X = np.concatenate([X, np.random.normal(loc=20., size=3)])\n",
    "plt.hist(X.ravel(), bins=50, normed=1., label=\"samples\")\n",
    "\n",
    "students_t = StudentsT()\n",
    "gaussian = Gaussian()\n",
    "\n",
    "gaussian.fit(X)\n",
    "students_t.fit(X)\n",
    "\n",
    "print(gaussian)\n",
    "print(students_t)\n",
    "\n",
    "x = np.linspace(-5, 25, 1000)\n",
    "plt.plot(x, students_t.pdf(x), label=\"student's t\", linewidth=2)\n",
    "plt.plot(x, gaussian.pdf(x), label=\"gaussian\", linewidth=2)\n",
    "plt.legend()\n",
    "plt.show()"
   ]
  },
  {
   "cell_type": "markdown",
   "metadata": {
    "collapsed": true
   },
   "source": [
    "### 2.3.9 Mixture of Gaussians"
   ]
  },
  {
   "cell_type": "code",
   "execution_count": null,
   "metadata": {},
   "outputs": [],
   "source": [
    "x1 = np.random.normal(size=(100, 2))\n",
    "x1 += np.array([-5, -5])\n",
    "x2 = np.random.normal(size=(100, 2))\n",
    "x2 += np.array([5, -5])\n",
    "x3 = np.random.normal(size=(100, 2))\n",
    "x3 += np.array([0, 5])\n",
    "X = np.vstack((x1, x2, x3))\n",
    "\n",
    "model = MultivariateGaussianMixture(n_components=3)\n",
    "model.fit(X)\n",
    "print(model)\n",
    "\n",
    "x_test, y_test = np.meshgrid(np.linspace(-10, 10, 100), np.linspace(-10, 10, 100))\n",
    "X_test = np.array([x_test, y_test]).reshape(2, -1).transpose()\n",
    "probs = model.pdf(X_test)\n",
    "Probs = probs.reshape(100, 100)\n",
    "plt.scatter(X[:, 0], X[:, 1])\n",
    "plt.contour(x_test, y_test, Probs)\n",
    "plt.xlim(-10, 10)\n",
    "plt.ylim(-10, 10)\n",
    "plt.show()"
   ]
  },
  {
   "cell_type": "code",
   "execution_count": null,
   "metadata": {},
   "outputs": [],
   "source": []
  }
 ],
 "metadata": {
  "anaconda-cloud": {},
  "kernelspec": {
   "display_name": "Python 3",
   "language": "python",
   "name": "python3"
  },
  "language_info": {
   "codemirror_mode": {
    "name": "ipython",
    "version": 3
   },
   "file_extension": ".py",
   "mimetype": "text/x-python",
   "name": "python",
   "nbconvert_exporter": "python",
   "pygments_lexer": "ipython3",
   "version": "3.6.8"
  }
 },
 "nbformat": 4,
 "nbformat_minor": 1
}
